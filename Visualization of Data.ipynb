{
 "cells": [
  {
   "cell_type": "code",
   "execution_count": 6,
   "id": "214d893f-41b2-4308-85c5-c419ba1ca05b",
   "metadata": {},
   "outputs": [
    {
     "name": "stdout",
     "output_type": "stream",
     "text": [
      "Age, Gender, Total Income, Utilities, Entertainment, School Fees, Shopping, Healthcare\n",
      "34, Female, 1000000, 100000, 50000, 400000, 40000, 100000\n",
      "45, Male, 900000, 70000, 40000, 300100, 50000, 110000\n",
      "28, Unspecified, 300000, 20000, 40000, 10000, 100000, 30000\n",
      "Charts exported as 'age_vs_income.png' and 'all_gender_vs_spending_distribution.png'\n"
     ]
    },
    {
     "data": {
      "text/plain": [
       "<Figure size 1200x600 with 0 Axes>"
      ]
     },
     "metadata": {},
     "output_type": "display_data"
    }
   ],
   "source": [
    "import pandas as pd\n",
    "import matplotlib.pyplot as plt\n",
    "import seaborn as sns\n",
    "\n",
    "# Load the CSV file\n",
    "df = pd.read_csv('user_data.csv')\n",
    "\n",
    "# Age with the highest income\n",
    "plt.figure(figsize=(12, 6))\n",
    "sns.scatterplot(data=df, x='Age', y='Total Income')\n",
    "plt.title('Age with the highest income')\n",
    "plt.savefig('age_vs_income.png')\n",
    "plt.close()\n",
    "\n",
    "# Showing gender distribution across spending categories\n",
    "spending_categories = ['Utilities', 'Entertainment', 'School Fees', 'Shopping', 'Healthcare']\n",
    "gender_spending = df.groupby('Gender')[spending_categories].mean()\n",
    "\n",
    "import csv\n",
    "\n",
    "# Display the contents of user_data.csv\n",
    "with open('user_data.csv', 'r') as file:\n",
    "    csv_reader = csv.reader(file)\n",
    "    for row in csv_reader:\n",
    "        print(', '.join(row))\n",
    "\n",
    "plt.figure(figsize=(12, 6))\n",
    "gender_spending.plot(kind='bar', stacked=True)\n",
    "plt.title('Gender Distribution Across Spending Categories')\n",
    "plt.xlabel('Gender')\n",
    "plt.ylabel('Average Spending')\n",
    "plt.legend(title='Spending Category', bbox_to_anchor=(1.05, 1), loc='upper left')\n",
    "plt.tight_layout()\n",
    "plt.savefig('all_gender_vs_spending_distribution.png')\n",
    "plt.close()\n",
    "\n",
    "print(\"Charts exported as 'age_vs_income.png' and 'all_gender_vs_spending_distribution.png'\")\n"
   ]
  },
  {
   "cell_type": "code",
   "execution_count": null,
   "id": "970c6bdc-335e-48ef-8b72-befdcc7c0b5b",
   "metadata": {},
   "outputs": [],
   "source": []
  }
 ],
 "metadata": {
  "kernelspec": {
   "display_name": "Python 3 (ipykernel)",
   "language": "python",
   "name": "python3"
  },
  "language_info": {
   "codemirror_mode": {
    "name": "ipython",
    "version": 3
   },
   "file_extension": ".py",
   "mimetype": "text/x-python",
   "name": "python",
   "nbconvert_exporter": "python",
   "pygments_lexer": "ipython3",
   "version": "3.12.7"
  }
 },
 "nbformat": 4,
 "nbformat_minor": 5
}
